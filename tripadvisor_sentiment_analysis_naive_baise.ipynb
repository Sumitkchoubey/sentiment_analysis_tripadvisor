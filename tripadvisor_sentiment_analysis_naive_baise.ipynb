{
 "cells": [
  {
   "cell_type": "code",
   "execution_count": 1,
   "metadata": {},
   "outputs": [],
   "source": [
    "import pandas as pd\n",
    "import numpy as np\n",
    "import nltk\n",
    "from nltk.stem import PorterStemmer\n",
    "from sklearn.feature_extraction.text import CountVectorizer\n",
    "from sklearn.feature_extraction.text import TfidfTransformer\n",
    "from sklearn.model_selection import train_test_split\n",
    "from sklearn.naive_bayes import MultinomialNB\n",
    "from sklearn.metrics import confusion_matrix\n",
    "from sklearn.metrics import accuracy_score\n"
   ]
  },
  {
   "cell_type": "code",
   "execution_count": 2,
   "metadata": {},
   "outputs": [],
   "source": [
    "#read the file\n",
    "def read_data(file_name):\n",
    "    file_data=pd.read_csv(file_name)\n",
    "    return file_data"
   ]
  },
  {
   "cell_type": "code",
   "execution_count": 3,
   "metadata": {},
   "outputs": [
    {
     "name": "stderr",
     "output_type": "stream",
     "text": [
      "C:\\Users\\USER\\anaconda3\\envs\\allpack\\lib\\site-packages\\IPython\\core\\interactiveshell.py:3254: DtypeWarning: Columns (16) have mixed types.Specify dtype option on import or set low_memory=False.\n",
      "  if (await self.run_code(code, result,  async_=asy)):\n"
     ]
    }
   ],
   "source": [
    "file_detail=read_data(\"greec_data.csv\")"
   ]
  },
  {
   "cell_type": "code",
   "execution_count": 4,
   "metadata": {},
   "outputs": [],
   "source": [
    "#create a column based on customer_rating\n",
    "def to_sentiment(rating):\n",
    "    rating=int(rating)\n",
    "    if  rating==10:\n",
    "        return 0\n",
    "    if rating==20:\n",
    "        return 1\n",
    "    if rating==30:\n",
    "        return 2\n",
    "    if rating==40:\n",
    "        return 3\n",
    "    if rating==50:\n",
    "        return 4"
   ]
  },
  {
   "cell_type": "code",
   "execution_count": 5,
   "metadata": {},
   "outputs": [],
   "source": [
    "file_detail['sentiment']=file_detail.customer_rating.apply(to_sentiment)"
   ]
  },
  {
   "cell_type": "code",
   "execution_count": 6,
   "metadata": {},
   "outputs": [],
   "source": [
    "#preprocessing\n",
    "def preprocessing(data):\n",
    "    data['comment'] = data.comment.map(lambda x: x.lower())\n",
    "    data['comment'] = data.comment.str.replace('[^\\w\\s]', '')\n",
    "    data['comment']= data['comment'].apply(nltk.word_tokenize)\n",
    "    stemmer = PorterStemmer()\n",
    "    data['comment'] = data['comment'].apply(lambda x: [stemmer.stem(y) for y in x])\n",
    "    return data"
   ]
  },
  {
   "cell_type": "code",
   "execution_count": 7,
   "metadata": {},
   "outputs": [],
   "source": [
    "file_data=preprocessing(file_detail)"
   ]
  },
  {
   "cell_type": "code",
   "execution_count": 8,
   "metadata": {},
   "outputs": [],
   "source": [
    "#create model\n",
    "def create_model(review_data):\n",
    "    \n",
    "    # This converts the list of words into space-separated strings\n",
    "    review_data['comment'] = review_data['comment'].apply(lambda x: ' '.join(x))\n",
    "    count_vect = CountVectorizer()\n",
    "    counts = count_vect.fit_transform(review_data['comment'])\n",
    "    transformer = TfidfTransformer().fit(counts)\n",
    "    counts = transformer.transform(counts)\n",
    "    X_train, X_test, y_train, y_test = train_test_split(counts, review_data['sentiment'], test_size=0.3, random_state=6)\n",
    "    model = MultinomialNB().fit(X_train, y_train)\n",
    "    return model,X_test,y_test"
   ]
  },
  {
   "cell_type": "code",
   "execution_count": 9,
   "metadata": {},
   "outputs": [],
   "source": [
    "model_data,X_test,y_test=create_model(file_data)"
   ]
  },
  {
   "cell_type": "code",
   "execution_count": 10,
   "metadata": {},
   "outputs": [],
   "source": [
    "predicted = model_data.predict(X_test)\n"
   ]
  },
  {
   "cell_type": "code",
   "execution_count": 11,
   "metadata": {},
   "outputs": [
    {
     "name": "stdout",
     "output_type": "stream",
     "text": [
      "0.630461018585566\n"
     ]
    }
   ],
   "source": [
    "print(accuracy_score(y_test, predicted))\n"
   ]
  },
  {
   "cell_type": "code",
   "execution_count": null,
   "metadata": {},
   "outputs": [],
   "source": [
    "accuracy_score(y_test, predicted)"
   ]
  },
  {
   "cell_type": "code",
   "execution_count": null,
   "metadata": {},
   "outputs": [],
   "source": []
  }
 ],
 "metadata": {
  "kernelspec": {
   "display_name": "allpack",
   "language": "python",
   "name": "allpack"
  },
  "language_info": {
   "codemirror_mode": {
    "name": "ipython",
    "version": 3
   },
   "file_extension": ".py",
   "mimetype": "text/x-python",
   "name": "python",
   "nbconvert_exporter": "python",
   "pygments_lexer": "ipython3",
   "version": "3.7.6"
  }
 },
 "nbformat": 4,
 "nbformat_minor": 4
}
